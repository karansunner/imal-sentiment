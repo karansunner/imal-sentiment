{
 "cells": [
  {
   "cell_type": "code",
   "execution_count": 2,
   "metadata": {},
   "outputs": [],
   "source": [
    "import spacy\n",
    "from spacy import displacy\n",
    "nlp = spacy.load('en_core_web_sm')\n",
    "\n",
    "import nltk\n",
    "from nltk.stem.porter import *\n",
    "\n",
    "from nltk.stem.snowball import SnowballStemmer\n",
    "\n",
    "from spacy.matcher import Matcher\n"
   ]
  },
  {
   "cell_type": "code",
   "execution_count": 4,
   "metadata": {},
   "outputs": [
    {
     "name": "stdout",
     "output_type": "stream",
     "text": [
      "\"\n",
      "Let\n",
      "'s\n",
      "go\n",
      "to\n",
      "N.Y.\n",
      "!\n",
      "\"\n"
     ]
    }
   ],
   "source": [
    "doc = nlp('\"Let\\'s go to N.Y.!\"')\n",
    "for token in doc:\n",
    "    print(token.text)"
   ]
  },
  {
   "cell_type": "code",
   "execution_count": 13,
   "metadata": {},
   "outputs": [
    {
     "name": "stdout",
     "output_type": "stream",
     "text": [
      "Google | 's | monthly | revenue | is | $ | 6 | million | \n",
      "______________________________________________________\n",
      "Google - ORG - Companies, agencies, institutions, etc.\n",
      "monthly - DATE - Absolute or relative dates or periods\n",
      "$6 million - MONEY - Monetary values, including unit\n"
     ]
    }
   ],
   "source": [
    "sentence = nlp(u\"Google's monthly revenue is $6 million\")\n",
    "\n",
    "for token in sentence:\n",
    "    print(token.text, end=' | ')\n",
    "\n",
    "print('\\n______________________________________________________')\n",
    "\n",
    "for ent in sentence.ents:\n",
    "    print(ent.text+' - '+ent.label_+' - '+str(spacy.explain(ent.label_)))"
   ]
  },
  {
   "cell_type": "code",
   "execution_count": 14,
   "metadata": {},
   "outputs": [
    {
     "data": {
      "text/html": [
       "<span class=\"tex2jax_ignore\"><div class=\"entities\" style=\"line-height: 2.5; direction: ltr\">Over \n",
       "<mark class=\"entity\" style=\"background: #bfe1d9; padding: 0.45em 0.6em; margin: 0 0.25em; line-height: 1; border-radius: 0.35em;\">\n",
       "    last few years\n",
       "    <span style=\"font-size: 0.8em; font-weight: bold; line-height: 1; border-radius: 0.35em; vertical-align: middle; margin-left: 0.5rem\">DATE</span>\n",
       "</mark>\n",
       " \n",
       "<mark class=\"entity\" style=\"background: #feca74; padding: 0.45em 0.6em; margin: 0 0.25em; line-height: 1; border-radius: 0.35em;\">\n",
       "    USA\n",
       "    <span style=\"font-size: 0.8em; font-weight: bold; line-height: 1; border-radius: 0.35em; vertical-align: middle; margin-left: 0.5rem\">GPE</span>\n",
       "</mark>\n",
       " generates \n",
       "<mark class=\"entity\" style=\"background: #e4e7d2; padding: 0.45em 0.6em; margin: 0 0.25em; line-height: 1; border-radius: 0.35em;\">\n",
       "    $6 million\n",
       "    <span style=\"font-size: 0.8em; font-weight: bold; line-height: 1; border-radius: 0.35em; vertical-align: middle; margin-left: 0.5rem\">MONEY</span>\n",
       "</mark>\n",
       " revenue.</div></span>"
      ],
      "text/plain": [
       "<IPython.core.display.HTML object>"
      ]
     },
     "metadata": {},
     "output_type": "display_data"
    }
   ],
   "source": [
    "doc = nlp(u'Over last few years USA generates $6 million revenue.')\n",
    "displacy.render(doc, style='ent', jupyter=True)"
   ]
  },
  {
   "cell_type": "code",
   "execution_count": 18,
   "metadata": {},
   "outputs": [
    {
     "data": {
      "text/html": [
       "<span class=\"tex2jax_ignore\"><svg xmlns=\"http://www.w3.org/2000/svg\" xmlns:xlink=\"http://www.w3.org/1999/xlink\" xml:lang=\"en\" id=\"3cf7e472cab546d8ac6c069035d6be2e-0\" class=\"displacy\" width=\"600\" height=\"302.0\" direction=\"ltr\" style=\"max-width: none; height: 302.0px; color: #000000; background: #ffffff; font-family: Arial; direction: ltr\">\n",
       "<text class=\"displacy-token\" fill=\"currentColor\" text-anchor=\"middle\" y=\"212.0\">\n",
       "    <tspan class=\"displacy-word\" fill=\"currentColor\" x=\"50\">Bangladesh</tspan>\n",
       "    <tspan class=\"displacy-tag\" dy=\"2em\" fill=\"currentColor\" x=\"50\">PROPN</tspan>\n",
       "</text>\n",
       "\n",
       "<text class=\"displacy-token\" fill=\"currentColor\" text-anchor=\"middle\" y=\"212.0\">\n",
       "    <tspan class=\"displacy-word\" fill=\"currentColor\" x=\"160\">is</tspan>\n",
       "    <tspan class=\"displacy-tag\" dy=\"2em\" fill=\"currentColor\" x=\"160\">AUX</tspan>\n",
       "</text>\n",
       "\n",
       "<text class=\"displacy-token\" fill=\"currentColor\" text-anchor=\"middle\" y=\"212.0\">\n",
       "    <tspan class=\"displacy-word\" fill=\"currentColor\" x=\"270\">a</tspan>\n",
       "    <tspan class=\"displacy-tag\" dy=\"2em\" fill=\"currentColor\" x=\"270\">DET</tspan>\n",
       "</text>\n",
       "\n",
       "<text class=\"displacy-token\" fill=\"currentColor\" text-anchor=\"middle\" y=\"212.0\">\n",
       "    <tspan class=\"displacy-word\" fill=\"currentColor\" x=\"380\">beautiful</tspan>\n",
       "    <tspan class=\"displacy-tag\" dy=\"2em\" fill=\"currentColor\" x=\"380\">ADJ</tspan>\n",
       "</text>\n",
       "\n",
       "<text class=\"displacy-token\" fill=\"currentColor\" text-anchor=\"middle\" y=\"212.0\">\n",
       "    <tspan class=\"displacy-word\" fill=\"currentColor\" x=\"490\">country</tspan>\n",
       "    <tspan class=\"displacy-tag\" dy=\"2em\" fill=\"currentColor\" x=\"490\">NOUN</tspan>\n",
       "</text>\n",
       "\n",
       "<g class=\"displacy-arrow\">\n",
       "    <path class=\"displacy-arc\" id=\"arrow-3cf7e472cab546d8ac6c069035d6be2e-0-0\" stroke-width=\"2px\" d=\"M70,167.0 C70,112.0 150.0,112.0 150.0,167.0\" fill=\"none\" stroke=\"currentColor\"/>\n",
       "    <text dy=\"1.25em\" style=\"font-size: 0.8em; letter-spacing: 1px\">\n",
       "        <textPath xlink:href=\"#arrow-3cf7e472cab546d8ac6c069035d6be2e-0-0\" class=\"displacy-label\" startOffset=\"50%\" side=\"left\" fill=\"currentColor\" text-anchor=\"middle\">nsubj</textPath>\n",
       "    </text>\n",
       "    <path class=\"displacy-arrowhead\" d=\"M70,169.0 L62,157.0 78,157.0\" fill=\"currentColor\"/>\n",
       "</g>\n",
       "\n",
       "<g class=\"displacy-arrow\">\n",
       "    <path class=\"displacy-arc\" id=\"arrow-3cf7e472cab546d8ac6c069035d6be2e-0-1\" stroke-width=\"2px\" d=\"M290,167.0 C290,57.0 485.0,57.0 485.0,167.0\" fill=\"none\" stroke=\"currentColor\"/>\n",
       "    <text dy=\"1.25em\" style=\"font-size: 0.8em; letter-spacing: 1px\">\n",
       "        <textPath xlink:href=\"#arrow-3cf7e472cab546d8ac6c069035d6be2e-0-1\" class=\"displacy-label\" startOffset=\"50%\" side=\"left\" fill=\"currentColor\" text-anchor=\"middle\">det</textPath>\n",
       "    </text>\n",
       "    <path class=\"displacy-arrowhead\" d=\"M290,169.0 L282,157.0 298,157.0\" fill=\"currentColor\"/>\n",
       "</g>\n",
       "\n",
       "<g class=\"displacy-arrow\">\n",
       "    <path class=\"displacy-arc\" id=\"arrow-3cf7e472cab546d8ac6c069035d6be2e-0-2\" stroke-width=\"2px\" d=\"M400,167.0 C400,112.0 480.0,112.0 480.0,167.0\" fill=\"none\" stroke=\"currentColor\"/>\n",
       "    <text dy=\"1.25em\" style=\"font-size: 0.8em; letter-spacing: 1px\">\n",
       "        <textPath xlink:href=\"#arrow-3cf7e472cab546d8ac6c069035d6be2e-0-2\" class=\"displacy-label\" startOffset=\"50%\" side=\"left\" fill=\"currentColor\" text-anchor=\"middle\">amod</textPath>\n",
       "    </text>\n",
       "    <path class=\"displacy-arrowhead\" d=\"M400,169.0 L392,157.0 408,157.0\" fill=\"currentColor\"/>\n",
       "</g>\n",
       "\n",
       "<g class=\"displacy-arrow\">\n",
       "    <path class=\"displacy-arc\" id=\"arrow-3cf7e472cab546d8ac6c069035d6be2e-0-3\" stroke-width=\"2px\" d=\"M180,167.0 C180,2.0 490.0,2.0 490.0,167.0\" fill=\"none\" stroke=\"currentColor\"/>\n",
       "    <text dy=\"1.25em\" style=\"font-size: 0.8em; letter-spacing: 1px\">\n",
       "        <textPath xlink:href=\"#arrow-3cf7e472cab546d8ac6c069035d6be2e-0-3\" class=\"displacy-label\" startOffset=\"50%\" side=\"left\" fill=\"currentColor\" text-anchor=\"middle\">attr</textPath>\n",
       "    </text>\n",
       "    <path class=\"displacy-arrowhead\" d=\"M490.0,169.0 L498.0,157.0 482.0,157.0\" fill=\"currentColor\"/>\n",
       "</g>\n",
       "</svg></span>"
      ],
      "text/plain": [
       "<IPython.core.display.HTML object>"
      ]
     },
     "metadata": {},
     "output_type": "display_data"
    }
   ],
   "source": [
    "document = nlp(u'Bangladesh is a beautiful country')\n",
    "displacy.render(document, style='dep', jupyter=True, options={'distance': 110})"
   ]
  },
  {
   "cell_type": "code",
   "execution_count": 20,
   "metadata": {},
   "outputs": [
    {
     "name": "stdout",
     "output_type": "stream",
     "text": [
      "run --> run\n",
      "runner --> runner\n",
      "running --> run\n",
      "ran --> ran\n",
      "runs --> run\n",
      "easily --> easili\n",
      "fairly --> fairli\n"
     ]
    }
   ],
   "source": [
    "p_stemmer = PorterStemmer()\n",
    "words = ['run','runner','running','ran','runs','easily','fairly']\n",
    "for word in words:\n",
    "    print(word+' --> '+p_stemmer.stem(word))"
   ]
  },
  {
   "cell_type": "code",
   "execution_count": 22,
   "metadata": {},
   "outputs": [
    {
     "name": "stdout",
     "output_type": "stream",
     "text": [
      "run --> run\n",
      "runner --> runner\n",
      "running --> run\n",
      "ran --> ran\n",
      "runs --> run\n",
      "easily --> easili\n",
      "fairly --> fair\n"
     ]
    }
   ],
   "source": [
    "s_stemmer = SnowballStemmer(language='english')\n",
    "words = ['run','runner','running','ran','runs','easily','fairly']\n",
    "for word in words:\n",
    "    print(word+' --> '+s_stemmer.stem(word))"
   ]
  },
  {
   "cell_type": "code",
   "execution_count": 23,
   "metadata": {},
   "outputs": [
    {
     "name": "stdout",
     "output_type": "stream",
     "text": [
      "He           PRON   1655312771067108281    he\n",
      "is           AUX    10382539506755952630   be\n",
      "a            DET    11901859001352538922   a\n",
      "runner       NOUN   12640964157389618806   runner\n",
      "running      VERB   12767647472892411841   run\n",
      "in           ADP    3002984154512732771    in\n",
      "a            DET    11901859001352538922   a\n",
      "competition  NOUN   4661638505416061516    competition\n",
      "because      SCONJ  16950148841647037698   because\n",
      "he           PRON   1655312771067108281    he\n",
      "loves        VERB   3702023516439754181    love\n",
      "to           PART   3791531372978436496    to\n",
      "run          VERB   12767647472892411841   run\n",
      "since        SCONJ  10066841407251338481   since\n",
      "he           PRON   1655312771067108281    he\n",
      "ran          VERB   12767647472892411841   run\n",
      "today        NOUN   11042482332948150395   today\n"
     ]
    }
   ],
   "source": [
    "\n",
    "doc = nlp(u\"He is a runner running in a competition because he loves to run since he ran today\")\n",
    "\n",
    "for token in doc:\n",
    "    print(f'{token.text:{12}} {token.pos_:{6}} {token.lemma:<{22}} {token.lemma_}')"
   ]
  },
  {
   "cell_type": "code",
   "execution_count": 24,
   "metadata": {},
   "outputs": [
    {
     "name": "stdout",
     "output_type": "stream",
     "text": [
      "{'a', 'some', 'bottom', 'hers', 'around', 'the', 'made', 'these', 'used', 'get', 'latter', 'there', 'anyway', 'call', 'same', 'whether', 'whereby', 'together', 'all', 'done', 'often', 'about', 'top', 'part', 'thereupon', 'here', 'now', '‘re', 'most', 'did', 'should', 'nothing', 'one', 'well', \"n't\", 'back', \"'re\", 'herein', 'beforehand', 'none', 'were', 'except', 'because', 'whose', 'others', 'became', 'been', 'everyone', 'last', 'few', 'see', 'indeed', 'just', 'may', 'otherwise', 'via', 'upon', 'various', '’m', 'fifteen', 'twelve', 'due', '’d', 'between', 'and', 'an', 'your', 'using', 'before', 'no', 'someone', 'put', 'keep', 'thence', 'with', \"'m\", 'alone', 'out', 'him', 'every', 'herself', 'mostly', 'against', 'from', 'although', 'still', 'whole', '’ve', 'perhaps', 'further', 'after', 'behind', 'within', 'itself', 'meanwhile', 'onto', 'does', 'beyond', 'yet', 'empty', 'again', 'if', 'below', 'her', 'many', 'seem', 'above', 'ever', 'move', 'those', 'very', 'but', 'throughout', 'both', 'much', 'such', 'so', 'us', 'really', 'seems', \"'ll\", 'sometime', 'than', 'whereas', 'among', 'give', 'which', 'when', 'latterly', 'quite', 'either', 'i', 'twenty', 'until', 'yourself', 'say', 'across', 'sixty', 'them', 'can', 'over', 'mine', 'own', 'would', 'thereafter', 'anything', 'down', 'his', 'ca', 'me', 'side', 'becomes', 'afterwards', 'more', 'or', 'you', 'whoever', '‘m', 'themselves', 'least', 'anyhow', \"'ve\", 'somehow', 'thereby', 'why', 'must', 'other', '‘ve', 'its', 'sometimes', 'show', 'to', 'are', 'six', 'enough', 'make', 'therein', 'we', 'however', 'even', 'nobody', 'front', 'never', 'name', 'only', 'take', 'since', '’s', 'towards', 'be', 'had', 'nor', 'wherein', 'has', 'yourselves', 'anywhere', 'who', 'as', 'namely', 'amount', 'might', 'thru', 'always', '‘s', 'besides', 'former', 'hereupon', 'too', 'is', '‘d', 'third', 'hereby', 'without', 'already', 'ten', 'almost', 'neither', 'formerly', 'under', 'somewhere', 'whither', '’re', 'whereupon', 'hundred', 'am', 'ourselves', 'toward', 'whatever', 're', 'into', 'eight', 'wherever', 'eleven', 'could', 'rather', 'next', 'anyone', 'forty', 'doing', 'not', 'noone', 'four', 'each', 'serious', 'everything', 'it', 'everywhere', 'therefore', 'during', 'myself', 'once', 'another', 'amongst', 'cannot', 'per', 'do', 'this', 'himself', 'off', 'on', '’ll', 'n’t', 'ours', 'also', 'seeming', 'nine', 'they', 'being', 'hereafter', 'regarding', 'was', 'have', 'else', 'n‘t', 'first', 'nevertheless', 'several', 'at', 'unless', 'while', 'please', 'moreover', 'whereafter', 'whence', 'something', 'seemed', 'nowhere', \"'d\", 'by', 'along', 'she', 'whenever', 'elsewhere', 'then', 'fifty', 'where', 'their', 'three', 'full', 'in', 'less', 'what', 'yours', 'for', 'how', '‘ll', 'become', 'hence', \"'s\", 'up', 'will', 'he', 'though', 'that', 'any', 'beside', 'my', 'our', 'five', 'thus', 'becoming', 'through', 'whom', 'two', 'go', 'of'}\n"
     ]
    }
   ],
   "source": [
    "print(nlp.Defaults.stop_words)"
   ]
  },
  {
   "cell_type": "code",
   "execution_count": 27,
   "metadata": {},
   "outputs": [
    {
     "data": {
      "text/plain": [
       "True"
      ]
     },
     "execution_count": 27,
     "metadata": {},
     "output_type": "execute_result"
    }
   ],
   "source": [
    "nlp.vocab['myself'].is_stop"
   ]
  },
  {
   "cell_type": "code",
   "execution_count": 33,
   "metadata": {},
   "outputs": [],
   "source": [
    "matcher = Matcher(nlp.vocab)\n",
    "pattern_1 = [{'LOWER': 'solarpower'}]\n",
    "pattern_2 = [{'LOWER': 'solar'}, {'LOWER': 'power'}]\n",
    "pattern_3 = [{'LOWER': 'solar'}, {'IS_PUNCT': True}, {'LOWER': 'power'}]\n",
    "\n",
    "patterns = [pattern_1, pattern_2, pattern_3]\n",
    "matcher.add('solarpower', patterns)"
   ]
  },
  {
   "cell_type": "code",
   "execution_count": 34,
   "metadata": {},
   "outputs": [
    {
     "name": "stdout",
     "output_type": "stream",
     "text": [
      "[(5703546853475899243, 1, 3), (5703546853475899243, 11, 12), (5703546853475899243, 14, 17)]\n"
     ]
    }
   ],
   "source": [
    "document = nlp(u'The Solar Power industry continues to grow as demand \\\n",
    "    for solarpower increases. Solar-power cars are gaining popularity.')\n",
    "found_matches = matcher(document)\n",
    "print(found_matches)"
   ]
  },
  {
   "cell_type": "code",
   "execution_count": 35,
   "metadata": {},
   "outputs": [
    {
     "name": "stdout",
     "output_type": "stream",
     "text": [
      "5703546853475899243 solarpower 1 3 is a\n",
      "5703546853475899243 solarpower 11 12 to\n",
      "5703546853475899243 solarpower 14 17 he ran today\n"
     ]
    }
   ],
   "source": [
    "for match_id, start, end in found_matches:\n",
    "    # get string representation\n",
    "    string_id = nlp.vocab.strings[match_id]\n",
    "    # get the matched span\n",
    "    span = doc[start:end]       \n",
    "    print(match_id, string_id, start, end, span.text)"
   ]
  },
  {
   "cell_type": "code",
   "execution_count": null,
   "metadata": {},
   "outputs": [],
   "source": []
  }
 ],
 "metadata": {
  "interpreter": {
   "hash": "68fc9ddfa26e06f0e532a8e2c2f58c78aad94b50d1d571c05e82e63ce23656c4"
  },
  "kernelspec": {
   "display_name": "Python 3.7.5 ('IML')",
   "language": "python",
   "name": "python3"
  },
  "language_info": {
   "codemirror_mode": {
    "name": "ipython",
    "version": 3
   },
   "file_extension": ".py",
   "mimetype": "text/x-python",
   "name": "python",
   "nbconvert_exporter": "python",
   "pygments_lexer": "ipython3",
   "version": "3.7.5"
  },
  "orig_nbformat": 4
 },
 "nbformat": 4,
 "nbformat_minor": 2
}
